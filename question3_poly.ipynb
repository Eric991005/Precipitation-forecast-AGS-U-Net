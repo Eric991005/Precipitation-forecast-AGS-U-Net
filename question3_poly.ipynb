{
 "cells": [
  {
   "cell_type": "code",
   "execution_count": 1,
   "metadata": {},
   "outputs": [],
   "source": [
    "import pandas as pd\n",
    "import numpy as np\n",
    "import matplotlib.pyplot as plt\n",
    "# 设置中文字体\n",
    "plt.rcParams['font.sans-serif'] = ['SimHei']\n",
    "# 设置正常显示符号\n",
    "plt.rcParams['axes.unicode_minus'] = False\n",
    "# 设置字体大小\n",
    "plt.rcParams['font.size'] = 16\n",
    "import os\n",
    "import warnings\n",
    "warnings.filterwarnings('ignore')\n"
   ]
  },
  {
   "cell_type": "code",
   "execution_count": null,
   "metadata": {},
   "outputs": [],
   "source": [
    "from skimage.measure import block_reduce\n",
    "# 定义下采样数据函数\n",
    "def downsample(up_downsample_size, source_data):\n",
    "    # 计算新的尺寸\n",
    "    # new_size = data.shape[0] // up_downsample_size\n",
    "    # 下采样数据\n",
    "    downsampled_data = block_reduce(source_data, block_size=(up_downsample_size, up_downsample_size), func=np.mean)\n",
    "    return downsampled_data\n",
    "\n",
    "# 定义上采样的方法\n",
    "from scipy.ndimage import zoom\n",
    "def upsample(up_downsample_size, source_data):\n",
    "    # 计算新的尺寸\n",
    "    # new_size = source_data.shape[0] * upsample_size\n",
    "    # 上采样数据\n",
    "    upsampled_data = zoom(source_data, up_downsample_size)\n",
    "    return upsampled_data"
   ]
  },
  {
   "cell_type": "code",
   "execution_count": 2,
   "metadata": {},
   "outputs": [
    {
     "data": {
      "text/plain": [
       "'NJU_CPOL_kdpRain'"
      ]
     },
     "execution_count": 2,
     "metadata": {},
     "output_type": "execute_result"
    }
   ],
   "source": [
    "# tt = './data/NJU_CPOL_kdpRain/data_dir_000/'\n",
    "tt = '/root/autodl-tmp/competition/data/other_clean_data/NJU_CPOL_kdpRain/data_dir_000'\n",
    "# 取'/NJU_CPOL_update2308/dBZ/1.0km/data_dir_000/'\n",
    "folder_path_save = tt.split('/')[-2]\n",
    "folder_path_save"
   ]
  },
  {
   "cell_type": "code",
   "execution_count": 3,
   "metadata": {},
   "outputs": [],
   "source": [
    "up_downsample_size = 16\n",
    "new_size = 256 // up_downsample_size\n",
    "num_columns = new_size*new_size\n",
    "column_names = ['F' + str(i) for i in range(num_columns)]"
   ]
  },
  {
   "cell_type": "code",
   "execution_count": 7,
   "metadata": {},
   "outputs": [
    {
     "name": "stdout",
     "output_type": "stream",
     "text": [
      "fold_now_data.csv\n",
      "Done with folder /root/autodl-tmp/competition/data/other_clean_data/NJU_CPOL_kdpRain/data_dir_004\n",
      "fold_now_data.csv\n",
      "Done with folder /root/autodl-tmp/competition/data/other_clean_data/NJU_CPOL_kdpRain/data_dir_003\n",
      "fold_now_data.csv\n",
      "Done with folder /root/autodl-tmp/competition/data/other_clean_data/NJU_CPOL_kdpRain/data_dir_002\n",
      "fold_now_data.csv\n",
      "Done with folder /root/autodl-tmp/competition/data/other_clean_data/NJU_CPOL_kdpRain/data_dir_005\n",
      "Done with folder /root/autodl-tmp/competition/data/other_clean_data/NJU_CPOL_kdpRain/.DS_Store\n",
      "fold_now_data.csv\n",
      "Done with folder /root/autodl-tmp/competition/data/other_clean_data/NJU_CPOL_kdpRain/data_dir_010\n",
      "fold_now_data.csv\n",
      "Done with folder /root/autodl-tmp/competition/data/other_clean_data/NJU_CPOL_kdpRain/data_dir_009\n",
      "fold_now_data.csv\n",
      "Done with folder /root/autodl-tmp/competition/data/other_clean_data/NJU_CPOL_kdpRain/data_dir_000\n",
      "fold_now_data.csv\n",
      "Done with folder /root/autodl-tmp/competition/data/other_clean_data/NJU_CPOL_kdpRain/data_dir_007\n",
      "fold_now_data.csv\n",
      "Done with folder /root/autodl-tmp/competition/data/other_clean_data/NJU_CPOL_kdpRain/data_dir_006\n",
      "fold_now_data.csv\n",
      "Done with folder /root/autodl-tmp/competition/data/other_clean_data/NJU_CPOL_kdpRain/data_dir_001\n",
      "fold_now_data.csv\n",
      "Done with folder /root/autodl-tmp/competition/data/other_clean_data/NJU_CPOL_kdpRain/data_dir_008\n"
     ]
    }
   ],
   "source": [
    "# 处理RAI数据\n",
    "base_dir = '/root/autodl-tmp/competition/data/other_clean_data/NJU_CPOL_kdpRain'\n",
    "# 遍历base_dir下的所有文件夹\n",
    "for folder in os.listdir(base_dir):\n",
    "    fold_now_data = pd.DataFrame(columns=column_names)\n",
    "    folder_path = os.path.join(base_dir, folder) # 当前文件夹路径\n",
    "    # 判断是否为文件夹\n",
    "    if os.path.isdir(folder_path):\n",
    "        for file in os.listdir(folder_path):\n",
    "            file_path = os.path.join(folder_path, file) # 当前文件路径\n",
    "            # print(file_path)\n",
    "            # 判断是否为npy文件\n",
    "            if file_path.endswith('.npy'):\n",
    "                data_now = np.load(file_path) # 读取当前数据\n",
    "                # 进行下采样\n",
    "                downsampled_data_now = downsample(16, data_now)\n",
    "                # 将数据展平为1维\n",
    "                downsampled_data_now = downsampled_data_now.flatten()\n",
    "                # 将数据转换为DataFrame格式并逐行添加到总表中\n",
    "                downsampled_data_now = pd.DataFrame(downsampled_data_now).T\n",
    "                downsampled_data_now.columns = column_names\n",
    "                fold_now_data = fold_now_data.append(downsampled_data_now, ignore_index=True)\n",
    "            else:\n",
    "                # 删除当前文件\n",
    "                os.remove(file_path)\n",
    "        # 保存到csv文件\n",
    "        folder_path_save2 = file_path.split('/')[-1].split('\\\\')[0]\n",
    "        print(folder_path_save2)\n",
    "        if not os.path.exists('/root/autodl-tmp/competition/data/other_clean_data/NJU_CPOL_kdpRain'):\n",
    "            os.makedirs('/root/autodl-tmp/competition/data/other_clean_data/NJU_CPOL_kdpRain')\n",
    "        fold_now_data.to_csv('/root/autodl-tmp/competition/data/other_clean_data/NJU_CPOL_kdpRain'+ '{}.csv'.format(folder_path_save2), index=False)\n",
    "    print(f'Done with folder {folder_path}')"
   ]
  },
  {
   "cell_type": "code",
   "execution_count": null,
   "metadata": {},
   "outputs": [],
   "source": [
    "dBZ_032 = pd.read_csv('/root/autodl-tmp/competition/data/other_clean_data/NJU_CPOL_update2308/dBZ/1.0km/data_dir_032.csv') # ZH\n",
    "ZDR_032 = pd.read_csv('/root/autodl-tmp/competition/data/other_clean_data/NJU_CPOL_update2308/dBZ/1.0km/data_dir_032.csv') # ZDR\n",
    "RAI_032 = pd.read_csv('./clean_data/NJU_CPOL_kdpRain/data_dir_032.csv') # RAI"
   ]
  }
 ],
 "metadata": {
  "kernelspec": {
   "display_name": "base",
   "language": "python",
   "name": "python3"
  },
  "language_info": {
   "codemirror_mode": {
    "name": "ipython",
    "version": 3
   },
   "file_extension": ".py",
   "mimetype": "text/x-python",
   "name": "python",
   "nbconvert_exporter": "python",
   "pygments_lexer": "ipython3",
   "version": "3.8.10"
  },
  "orig_nbformat": 4
 },
 "nbformat": 4,
 "nbformat_minor": 2
}
